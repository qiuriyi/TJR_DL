{
 "cells": [
  {
   "cell_type": "code",
   "execution_count": 1,
   "metadata": {
    "collapsed": true
   },
   "outputs": [],
   "source": [
    "import numpy as np\n",
    "from sklearn.model_selection import KFold\n",
    "from datetime import datetime\n",
    "from sklearn.metrics import roc_auc_score, accuracy_score, roc_curve\n",
    "from sklearn.linear_model import Lasso\n",
    "from sklearn.ensemble import RandomForestRegressor"
   ]
  },
  {
   "cell_type": "code",
   "execution_count": 43,
   "metadata": {
    "scrolled": true
   },
   "outputs": [
    {
     "name": "stdout",
     "output_type": "stream",
     "text": [
      "0 2018-07-20 11:14:32.370800\n",
      "1 2018-07-20 11:15:34.629610\n",
      "2 2018-07-20 11:16:34.761902\n",
      "3 2018-07-20 11:17:35.402199\n",
      "4 2018-07-20 11:18:36.614411\n",
      "5 2018-07-20 11:19:38.345197\n",
      "6 2018-07-20 11:20:40.589150\n",
      "7 2018-07-20 11:21:43.390456\n",
      "8 2018-07-20 11:22:46.734116\n",
      "9 2018-07-20 11:23:50.558445\n",
      "10 2018-07-20 11:24:54.889618\n",
      "11 2018-07-20 11:25:59.702164\n",
      "12 2018-07-20 11:27:05.086565\n",
      "13 2018-07-20 11:28:11.261249\n",
      "14 2018-07-20 11:29:18.007374\n",
      "15 2018-07-20 11:30:24.955523\n",
      "16 2018-07-20 11:31:32.512949\n",
      "17 2018-07-20 11:32:40.488192\n",
      "18 2018-07-20 11:33:49.165159\n",
      "19 2018-07-20 11:34:58.296925\n",
      "20 2018-07-20 11:36:08.007150\n",
      "21 2018-07-20 11:37:18.059497\n",
      "22 2018-07-20 11:38:28.788665\n",
      "23 2018-07-20 11:39:39.961610\n",
      "24 2018-07-20 11:40:51.784987\n",
      "25 2018-07-20 11:42:04.032693\n",
      "26 2018-07-20 11:43:16.882697\n",
      "27 2018-07-20 11:44:30.218191\n",
      "28 2018-07-20 11:45:44.051672\n",
      "29 2018-07-20 11:46:58.415163\n",
      "30 2018-07-20 11:48:13.330183\n",
      "31 2018-07-20 11:49:28.605101\n",
      "32 2018-07-20 11:50:44.699578\n",
      "33 2018-07-20 11:52:01.163162\n",
      "34 2018-07-20 11:53:18.221078\n",
      "35 2018-07-20 11:54:36.195957\n",
      "36 2018-07-20 11:55:54.321225\n",
      "37 2018-07-20 11:57:12.868760\n",
      "38 2018-07-20 11:58:32.247057\n",
      "39 2018-07-20 11:59:51.977644\n",
      "40 2018-07-20 12:01:12.351687\n",
      "41 2018-07-20 12:02:33.232823\n",
      "42 2018-07-20 12:03:54.547838\n",
      "43 2018-07-20 12:05:16.461962\n",
      "44 2018-07-20 12:06:38.893373\n",
      "45 2018-07-20 12:08:01.676022\n",
      "46 2018-07-20 12:09:25.125257\n",
      "47 2018-07-20 12:10:49.114561\n",
      "48 2018-07-20 12:12:13.617846\n",
      "49 2018-07-20 12:13:38.695862\n",
      "50 2018-07-20 12:15:04.303869\n",
      "51 2018-07-20 12:16:30.375991\n",
      "52 2018-07-20 12:17:57.037245\n",
      "53 2018-07-20 12:19:24.156933\n"
     ]
    }
   ],
   "source": [
    "### create flat features and concat with demographic data 2014+2015\n",
    "for i in range(54):\n",
    "    print(i,datetime.now())\n",
    "    loadata = np.load('0702data'+str(i)+'.npz')\n",
    "    x=loadata['InputX3D']\n",
    "    y=loadata['Output3D']\n",
    "    x=np.concatenate((x[:,:,:505],x[:,:,539:]),axis=2)\n",
    "    x = np.sum(x,axis=1)\n",
    "    dmg_data = np.load('additional_fields/0317data'+str(i)+'_additionalFields.npz')\n",
    "    x_dmg=dmg_data['values']\n",
    "    if i == 53:\n",
    "        dmg_53 = np.zeros((9000,4))\n",
    "        for mm in range(9000):\n",
    "            dmg_53[mm,:] = x_dmg[mm]\n",
    "        x_dmg = dmg_53\n",
    "        x = x[:9000]\n",
    "        y = y[:9000]\n",
    "    x_dmg[:,2] = abs(x_dmg[:,3]-2)\n",
    "    x_dmg = x_dmg[:,:3]\n",
    "    x=np.concatenate((x,x_dmg),axis=1)\n",
    "    y=y[:,0].reshape((x.shape[0]))\n",
    "    flat_x = (x if i==0 else np.append(flat_x, x, axis=0))\n",
    "    flat_y = (y if i==0 else np.append(flat_y, y))\n",
    "np.savez('flat_features_0720',x=flat_x,y=flat_y)"
   ]
  },
  {
   "cell_type": "code",
   "execution_count": null,
   "metadata": {},
   "outputs": [
    {
     "name": "stdout",
     "output_type": "stream",
     "text": [
      "0 2018-08-03 09:49:27.664441\n",
      "1 2018-08-03 09:50:15.260381\n",
      "2 2018-08-03 09:51:02.831476\n",
      "3 2018-08-03 09:51:50.995690\n",
      "4 2018-08-03 09:52:39.040022\n",
      "5 2018-08-03 09:53:27.027058\n",
      "6 2018-08-03 09:54:14.939440\n",
      "7 2018-08-03 09:55:02.850675\n",
      "8 2018-08-03 09:55:50.845436\n",
      "9 2018-08-03 09:56:38.773333\n",
      "10 2018-08-03 09:57:26.830848\n",
      "11 2018-08-03 09:58:14.717711\n",
      "12 2018-08-03 09:59:02.524033\n",
      "13 2018-08-03 09:59:50.674479\n",
      "14 2018-08-03 10:00:38.790819\n",
      "15 2018-08-03 10:01:26.986337\n",
      "16 2018-08-03 10:02:15.073153\n",
      "17 2018-08-03 10:03:03.344610\n",
      "18 2018-08-03 10:03:51.371671\n",
      "19 2018-08-03 10:04:39.513988\n",
      "20 2018-08-03 10:05:27.967961\n",
      "21 2018-08-03 10:06:16.379426\n",
      "22 2018-08-03 10:07:04.604336\n",
      "23 2018-08-03 10:07:52.951293\n",
      "24 2018-08-03 10:08:41.429352\n",
      "25 2018-08-03 10:09:29.629922\n",
      "26 2018-08-03 10:10:18.140617\n",
      "27 2018-08-03 10:11:06.583456\n",
      "28 2018-08-03 10:11:55.100383\n",
      "29 2018-08-03 10:12:43.693822\n",
      "30 2018-08-03 10:13:32.441524\n",
      "31 2018-08-03 10:14:21.047729\n",
      "32 2018-08-03 10:15:09.684701\n",
      "33 2018-08-03 10:15:58.173424\n",
      "34 2018-08-03 10:16:46.938788\n",
      "35 2018-08-03 10:17:35.654462\n",
      "36 2018-08-03 10:18:24.529755\n",
      "37 2018-08-03 10:19:13.224022\n",
      "38 2018-08-03 10:20:02.262402\n",
      "39 2018-08-03 10:20:51.075024\n",
      "40 2018-08-03 10:21:39.944144\n",
      "41 2018-08-03 10:22:28.818625\n",
      "42 2018-08-03 10:23:17.867182\n",
      "43 2018-08-03 10:24:06.762325\n",
      "44 2018-08-03 10:24:56.121225\n",
      "45 2018-08-03 10:25:45.296537\n",
      "46 2018-08-03 10:26:34.651299\n",
      "47 2018-08-03 10:27:37.812007\n",
      "48 2018-08-03 10:28:32.079953\n",
      "49 2018-08-03 10:29:27.874950\n",
      "50 2018-08-03 10:31:04.528707\n",
      "51 2018-08-03 10:32:23.131940\n",
      "52 2018-08-03 10:33:43.069218\n",
      "53 2018-08-03 10:34:59.387494\n"
     ]
    }
   ],
   "source": [
    "### create flat features and concat with demographic data 2015 only\n",
    "for i in range(54):\n",
    "    print(i,datetime.now())\n",
    "    loadata = np.load('0702data'+str(i)+'.npz')\n",
    "    x=loadata['InputX3D']\n",
    "    y=loadata['Output3D']\n",
    "    x=np.concatenate((x[:,:,:505],x[:,:,539:]),axis=2)\n",
    "    x = x[:,365:,:]\n",
    "    x = np.sum(x,axis=1)\n",
    "    dmg_data = np.load('additional_fields/0317data'+str(i)+'_additionalFields.npz')\n",
    "    x_dmg=dmg_data['values']\n",
    "    if i == 53:\n",
    "        dmg_53 = np.zeros((9000,4))\n",
    "        for mm in range(9000):\n",
    "            dmg_53[mm,:] = x_dmg[mm]\n",
    "        x_dmg = dmg_53\n",
    "        x = x[:9000]\n",
    "        y = y[:9000]\n",
    "    x_dmg[:,2] = abs(x_dmg[:,3]-2)\n",
    "    x_dmg = x_dmg[:,:3]\n",
    "    x=np.concatenate((x,x_dmg),axis=1)\n",
    "    y=y[:,0].reshape((x.shape[0]))\n",
    "    flat_x = (x if i==0 else np.append(flat_x, x, axis=0))\n",
    "    flat_y = (y if i==0 else np.append(flat_y, y))\n",
    "np.savez('flat_features_2015',x=flat_x,y=flat_y)"
   ]
  },
  {
   "cell_type": "code",
   "execution_count": null,
   "metadata": {},
   "outputs": [
    {
     "name": "stdout",
     "output_type": "stream",
     "text": [
      "0 2018-08-05 10:14:41.255805\n",
      "2 2018-08-05 10:16:34.985566\n",
      "3 2018-08-05 10:17:31.947707\n",
      "4 2018-08-05 10:18:29.399435\n",
      "5 2018-08-05 10:19:26.970632\n",
      "6 2018-08-05 10:20:24.201048\n",
      "7 2018-08-05 10:21:21.888780\n",
      "8 2018-08-05 10:22:19.593731\n",
      "9 2018-08-05 10:23:16.941104\n",
      "10 2018-08-05 10:24:14.344601\n",
      "11 2018-08-05 10:25:12.073045\n",
      "12 2018-08-05 10:26:09.513712\n",
      "13 2018-08-05 10:27:07.308727\n",
      "14 2018-08-05 10:28:04.905894\n",
      "15 2018-08-05 10:29:02.785357\n",
      "16 2018-08-05 10:30:00.571926\n"
     ]
    }
   ],
   "source": [
    "### create flat features and concat with demographic data concat 2014+2015\n",
    "for i in range(54):\n",
    "    print(i,datetime.now())\n",
    "    loadata = np.load('0702data'+str(i)+'.npz')\n",
    "    x=loadata['InputX3D']\n",
    "    y=loadata['Output3D']\n",
    "    x=np.concatenate((x[:,:,:505],x[:,:,539:]),axis=2)\n",
    "    x15 = x[:,365:,:]\n",
    "    x15 = np.sum(x15,axis=1)\n",
    "    x14 = x[:,:365,:]\n",
    "    x14 = np.sum(x14,axis=1)\n",
    "    dmg_data = np.load('additional_fields/0317data'+str(i)+'_additionalFields.npz')\n",
    "    x_dmg=dmg_data['values']\n",
    "    if i == 53:\n",
    "        dmg_53 = np.zeros((9000,4))\n",
    "        for mm in range(9000):\n",
    "            dmg_53[mm,:] = x_dmg[mm]\n",
    "        x_dmg = dmg_53\n",
    "        x = x[:9000]\n",
    "        y = y[:9000]\n",
    "    x_dmg[:,2] = abs(x_dmg[:,3]-2)\n",
    "    x_dmg = x_dmg[:,:3]\n",
    "    x=np.concatenate((x14,x15,x_dmg),axis=1)\n",
    "    y=y[:,0].reshape((x.shape[0]))\n",
    "    flat_x = (x if i==0 else np.append(flat_x, x, axis=0))\n",
    "    flat_y = (y if i==0 else np.append(flat_y, y))\n",
    "np.savez('flat_features_concat_2014_2015',x=flat_x,y=flat_y)"
   ]
  },
  {
   "cell_type": "code",
   "execution_count": 5,
   "metadata": {
    "collapsed": true
   },
   "outputs": [],
   "source": [
    "np.savez('flat_features_concat_2014_2015',x=flat_x,y=flat_y)"
   ]
  },
  {
   "cell_type": "code",
   "execution_count": 2,
   "metadata": {
    "collapsed": true
   },
   "outputs": [],
   "source": [
    "loadata = np.load('flat_features_0720.npz')\n",
    "flat_x = loadata['x']\n",
    "flat_y = loadata['y']"
   ]
  },
  {
   "cell_type": "code",
   "execution_count": 80,
   "metadata": {
    "scrolled": true
   },
   "outputs": [
    {
     "name": "stdout",
     "output_type": "stream",
     "text": [
      "1 2018-07-20 14:39:36.036331 auc: 0.759047418868\n",
      "2 2018-07-20 14:47:11.857546 auc: 0.763856797662\n",
      "3 2018-07-20 14:53:57.400963 auc: 0.761957723615\n",
      "4 2018-07-20 15:00:26.785421 auc: 0.753215554148\n"
     ]
    },
    {
     "name": "stderr",
     "output_type": "stream",
     "text": [
      "/opt/conda/lib/python3.6/site-packages/ipykernel_launcher.py:13: DeprecationWarning: in the future out of bounds indices will raise an error instead of being ignored by `numpy.delete`.\n",
      "  del sys.path[0]\n",
      "/opt/conda/lib/python3.6/site-packages/ipykernel_launcher.py:14: DeprecationWarning: in the future out of bounds indices will raise an error instead of being ignored by `numpy.delete`.\n",
      "  \n"
     ]
    },
    {
     "name": "stdout",
     "output_type": "stream",
     "text": [
      "5 2018-07-20 15:07:35.369881 auc: 0.763334333481\n",
      "alpha:  0.0001 cv_auc: 0.760282365555\n"
     ]
    },
    {
     "name": "stderr",
     "output_type": "stream",
     "text": [
      "/opt/conda/lib/python3.6/site-packages/sklearn/linear_model/coordinate_descent.py:491: ConvergenceWarning: Objective did not converge. You might want to increase the number of iterations. Fitting data with very small alpha may cause precision problems.\n",
      "  ConvergenceWarning)\n"
     ]
    },
    {
     "name": "stdout",
     "output_type": "stream",
     "text": [
      "1 2018-07-20 15:19:38.392506 auc: 0.757218736153\n",
      "2 2018-07-20 15:30:39.219217 auc: 0.762414886643\n",
      "3 2018-07-20 15:41:30.157865 auc: 0.759772683416\n",
      "4 2018-07-20 15:52:30.110883 auc: 0.751093623262\n",
      "5 2018-07-20 16:04:02.840984 auc: 0.761687388275\n",
      "alpha:  1e-05 cv_auc: 0.75843746355\n",
      "1 2018-07-20 16:17:23.510832 auc: 0.755565852586\n",
      "2 2018-07-20 16:30:35.007640 auc: 0.76069410946\n",
      "3 2018-07-20 16:43:36.748086 auc: 0.757698289522\n"
     ]
    },
    {
     "ename": "KeyboardInterrupt",
     "evalue": "",
     "output_type": "error",
     "traceback": [
      "\u001b[0;31m---------------------------------------------------------------------------\u001b[0m",
      "\u001b[0;31mKeyboardInterrupt\u001b[0m                         Traceback (most recent call last)",
      "\u001b[0;32m<ipython-input-80-63a4ca81f14d>\u001b[0m in \u001b[0;36m<module>\u001b[0;34m()\u001b[0m\n\u001b[1;32m     14\u001b[0m             \u001b[0my_train\u001b[0m \u001b[0;34m=\u001b[0m \u001b[0mnp\u001b[0m\u001b[0;34m.\u001b[0m\u001b[0mdelete\u001b[0m\u001b[0;34m(\u001b[0m\u001b[0mflat_y\u001b[0m\u001b[0;34m,\u001b[0m\u001b[0mindex\u001b[0m\u001b[0;34m,\u001b[0m\u001b[0maxis\u001b[0m\u001b[0;34m=\u001b[0m\u001b[0;36m0\u001b[0m\u001b[0;34m)\u001b[0m\u001b[0;34m\u001b[0m\u001b[0m\n\u001b[1;32m     15\u001b[0m             \u001b[0mlassoreg\u001b[0m \u001b[0;34m=\u001b[0m \u001b[0mLasso\u001b[0m\u001b[0;34m(\u001b[0m\u001b[0malpha\u001b[0m\u001b[0;34m=\u001b[0m\u001b[0malp\u001b[0m\u001b[0;34m)\u001b[0m\u001b[0;34m\u001b[0m\u001b[0m\n\u001b[0;32m---> 16\u001b[0;31m             \u001b[0mlassoreg\u001b[0m\u001b[0;34m.\u001b[0m\u001b[0mfit\u001b[0m\u001b[0;34m(\u001b[0m\u001b[0mx_train\u001b[0m\u001b[0;34m,\u001b[0m\u001b[0my_train\u001b[0m\u001b[0;34m)\u001b[0m\u001b[0;34m\u001b[0m\u001b[0m\n\u001b[0m\u001b[1;32m     17\u001b[0m             \u001b[0my_pred\u001b[0m \u001b[0;34m=\u001b[0m \u001b[0mlassoreg\u001b[0m\u001b[0;34m.\u001b[0m\u001b[0mpredict\u001b[0m\u001b[0;34m(\u001b[0m\u001b[0mx_test\u001b[0m\u001b[0;34m)\u001b[0m\u001b[0;34m\u001b[0m\u001b[0m\n\u001b[1;32m     18\u001b[0m             \u001b[0mauc\u001b[0m \u001b[0;34m=\u001b[0m \u001b[0mroc_auc_score\u001b[0m\u001b[0;34m(\u001b[0m\u001b[0my_test\u001b[0m\u001b[0;34m,\u001b[0m \u001b[0my_pred\u001b[0m\u001b[0;34m)\u001b[0m\u001b[0;34m\u001b[0m\u001b[0m\n",
      "\u001b[0;32m/opt/conda/lib/python3.6/site-packages/sklearn/linear_model/coordinate_descent.py\u001b[0m in \u001b[0;36mfit\u001b[0;34m(self, X, y, check_input)\u001b[0m\n\u001b[1;32m    750\u001b[0m                           \u001b[0mrandom_state\u001b[0m\u001b[0;34m=\u001b[0m\u001b[0mself\u001b[0m\u001b[0;34m.\u001b[0m\u001b[0mrandom_state\u001b[0m\u001b[0;34m,\u001b[0m\u001b[0;34m\u001b[0m\u001b[0m\n\u001b[1;32m    751\u001b[0m                           \u001b[0mselection\u001b[0m\u001b[0;34m=\u001b[0m\u001b[0mself\u001b[0m\u001b[0;34m.\u001b[0m\u001b[0mselection\u001b[0m\u001b[0;34m,\u001b[0m\u001b[0;34m\u001b[0m\u001b[0m\n\u001b[0;32m--> 752\u001b[0;31m                           check_input=False)\n\u001b[0m\u001b[1;32m    753\u001b[0m             \u001b[0mcoef_\u001b[0m\u001b[0;34m[\u001b[0m\u001b[0mk\u001b[0m\u001b[0;34m]\u001b[0m \u001b[0;34m=\u001b[0m \u001b[0mthis_coef\u001b[0m\u001b[0;34m[\u001b[0m\u001b[0;34m:\u001b[0m\u001b[0;34m,\u001b[0m \u001b[0;36m0\u001b[0m\u001b[0;34m]\u001b[0m\u001b[0;34m\u001b[0m\u001b[0m\n\u001b[1;32m    754\u001b[0m             \u001b[0mdual_gaps_\u001b[0m\u001b[0;34m[\u001b[0m\u001b[0mk\u001b[0m\u001b[0;34m]\u001b[0m \u001b[0;34m=\u001b[0m \u001b[0mthis_dual_gap\u001b[0m\u001b[0;34m[\u001b[0m\u001b[0;36m0\u001b[0m\u001b[0;34m]\u001b[0m\u001b[0;34m\u001b[0m\u001b[0m\n",
      "\u001b[0;32m/opt/conda/lib/python3.6/site-packages/sklearn/linear_model/coordinate_descent.py\u001b[0m in \u001b[0;36menet_path\u001b[0;34m(X, y, l1_ratio, eps, n_alphas, alphas, precompute, Xy, copy_X, coef_init, verbose, return_n_iter, positive, check_input, **params)\u001b[0m\n\u001b[1;32m    475\u001b[0m             model = cd_fast.enet_coordinate_descent(\n\u001b[1;32m    476\u001b[0m                 \u001b[0mcoef_\u001b[0m\u001b[0;34m,\u001b[0m \u001b[0ml1_reg\u001b[0m\u001b[0;34m,\u001b[0m \u001b[0ml2_reg\u001b[0m\u001b[0;34m,\u001b[0m \u001b[0mX\u001b[0m\u001b[0;34m,\u001b[0m \u001b[0my\u001b[0m\u001b[0;34m,\u001b[0m \u001b[0mmax_iter\u001b[0m\u001b[0;34m,\u001b[0m \u001b[0mtol\u001b[0m\u001b[0;34m,\u001b[0m \u001b[0mrng\u001b[0m\u001b[0;34m,\u001b[0m \u001b[0mrandom\u001b[0m\u001b[0;34m,\u001b[0m\u001b[0;34m\u001b[0m\u001b[0m\n\u001b[0;32m--> 477\u001b[0;31m                 positive)\n\u001b[0m\u001b[1;32m    478\u001b[0m         \u001b[0;32melse\u001b[0m\u001b[0;34m:\u001b[0m\u001b[0;34m\u001b[0m\u001b[0m\n\u001b[1;32m    479\u001b[0m             raise ValueError(\"Precompute should be one of True, False, \"\n",
      "\u001b[0;32msklearn/linear_model/cd_fast.pyx\u001b[0m in \u001b[0;36msklearn.linear_model.cd_fast.enet_coordinate_descent\u001b[0;34m()\u001b[0m\n",
      "\u001b[0;32m/opt/conda/lib/python3.6/site-packages/numpy/core/_methods.py\u001b[0m in \u001b[0;36m_sum\u001b[0;34m(a, axis, dtype, out, keepdims)\u001b[0m\n\u001b[1;32m     29\u001b[0m     \u001b[0;32mreturn\u001b[0m \u001b[0mumr_minimum\u001b[0m\u001b[0;34m(\u001b[0m\u001b[0ma\u001b[0m\u001b[0;34m,\u001b[0m \u001b[0maxis\u001b[0m\u001b[0;34m,\u001b[0m \u001b[0;32mNone\u001b[0m\u001b[0;34m,\u001b[0m \u001b[0mout\u001b[0m\u001b[0;34m,\u001b[0m \u001b[0mkeepdims\u001b[0m\u001b[0;34m)\u001b[0m\u001b[0;34m\u001b[0m\u001b[0m\n\u001b[1;32m     30\u001b[0m \u001b[0;34m\u001b[0m\u001b[0m\n\u001b[0;32m---> 31\u001b[0;31m \u001b[0;32mdef\u001b[0m \u001b[0m_sum\u001b[0m\u001b[0;34m(\u001b[0m\u001b[0ma\u001b[0m\u001b[0;34m,\u001b[0m \u001b[0maxis\u001b[0m\u001b[0;34m=\u001b[0m\u001b[0;32mNone\u001b[0m\u001b[0;34m,\u001b[0m \u001b[0mdtype\u001b[0m\u001b[0;34m=\u001b[0m\u001b[0;32mNone\u001b[0m\u001b[0;34m,\u001b[0m \u001b[0mout\u001b[0m\u001b[0;34m=\u001b[0m\u001b[0;32mNone\u001b[0m\u001b[0;34m,\u001b[0m \u001b[0mkeepdims\u001b[0m\u001b[0;34m=\u001b[0m\u001b[0;32mFalse\u001b[0m\u001b[0;34m)\u001b[0m\u001b[0;34m:\u001b[0m\u001b[0;34m\u001b[0m\u001b[0m\n\u001b[0m\u001b[1;32m     32\u001b[0m     \u001b[0;32mreturn\u001b[0m \u001b[0mumr_sum\u001b[0m\u001b[0;34m(\u001b[0m\u001b[0ma\u001b[0m\u001b[0;34m,\u001b[0m \u001b[0maxis\u001b[0m\u001b[0;34m,\u001b[0m \u001b[0mdtype\u001b[0m\u001b[0;34m,\u001b[0m \u001b[0mout\u001b[0m\u001b[0;34m,\u001b[0m \u001b[0mkeepdims\u001b[0m\u001b[0;34m)\u001b[0m\u001b[0;34m\u001b[0m\u001b[0m\n\u001b[1;32m     33\u001b[0m \u001b[0;34m\u001b[0m\u001b[0m\n",
      "\u001b[0;31mKeyboardInterrupt\u001b[0m: "
     ]
    }
   ],
   "source": [
    "l_alp = [0.0001,1e-5,1e-6]\n",
    "\n",
    "kf = KFold(n_splits=5, shuffle=False)\n",
    "with open('lasso_cv_grids.txt','a') as out:\n",
    "    for alp in l_alp:\n",
    "        counter = 0\n",
    "        cv_auc = 0\n",
    "        for train_index, test_index in kf.split(np.arange(54)):\n",
    "            counter += 1\n",
    "            index = np.arange(test_index[0]*10000,test_index[-1]*10000+10000)\n",
    "            x_test = flat_x[test_index[0]*10000:test_index[-1]*10000+10000]\n",
    "            y_test = flat_y[test_index[0]*10000:test_index[-1]*10000+10000]\n",
    "            x_train = np.delete(flat_x,index,axis=0)\n",
    "            y_train = np.delete(flat_y,index,axis=0)\n",
    "            lassoreg = Lasso(alpha=alp)\n",
    "            lassoreg.fit(x_train,y_train)\n",
    "            y_pred = lassoreg.predict(x_test)\n",
    "            auc = roc_auc_score(y_test, y_pred)\n",
    "            cv_auc += auc\n",
    "            print(counter, datetime.now(), 'auc:', auc)\n",
    "            out.write(str(counter)+'\\t'+str(datetime.now())+'\\tauc: '+str(auc)+'\\n')\n",
    "        cv_auc = cv_auc/5.\n",
    "        print('alpha: ', alp, 'cv_auc:', cv_auc)\n",
    "        out.write('alpha: '+str(alp)+'\\tcv_auc: '+str(cv_auc)+'\\n\\n')"
   ]
  },
  {
   "cell_type": "code",
   "execution_count": 4,
   "metadata": {},
   "outputs": [
    {
     "name": "stdout",
     "output_type": "stream",
     "text": [
      "1 2018-07-20 16:56:13.168180 auc: 0.77278397609\n",
      "2 2018-07-20 17:02:09.701833 auc: 0.775450109038\n",
      "3 2018-07-20 17:08:03.471150 auc: 0.769628762611\n",
      "4 2018-07-20 17:14:12.836132 auc: 0.760968953715\n"
     ]
    },
    {
     "name": "stderr",
     "output_type": "stream",
     "text": [
      "/opt/conda/lib/python3.6/site-packages/ipykernel_launcher.py:10: DeprecationWarning: in the future out of bounds indices will raise an error instead of being ignored by `numpy.delete`.\n",
      "  # Remove the CWD from sys.path while we load stuff.\n",
      "/opt/conda/lib/python3.6/site-packages/ipykernel_launcher.py:11: DeprecationWarning: in the future out of bounds indices will raise an error instead of being ignored by `numpy.delete`.\n",
      "  # This is added back by InteractiveShellApp.init_path()\n"
     ]
    },
    {
     "name": "stdout",
     "output_type": "stream",
     "text": [
      "5 2018-07-20 17:20:40.277557 auc: 0.770259776732\n",
      "cv_auc: 0.769818315637\n"
     ]
    }
   ],
   "source": [
    "kf = KFold(n_splits=5, shuffle=False)\n",
    "with open('rf_cv_grids.txt','w') as out:\n",
    "    counter = 0\n",
    "    cv_auc = 0\n",
    "    for train_index, test_index in kf.split(np.arange(54)):\n",
    "        counter += 1\n",
    "        index = np.arange(test_index[0]*10000,test_index[-1]*10000+10000)\n",
    "        x_test = flat_x[test_index[0]*10000:test_index[-1]*10000+10000]\n",
    "        y_test = flat_y[test_index[0]*10000:test_index[-1]*10000+10000]\n",
    "        x_train = np.delete(flat_x,index,axis=0)\n",
    "        y_train = np.delete(flat_y,index,axis=0)\n",
    "        forest = RandomForestRegressor(n_estimators=100, random_state=0, max_depth=100, \n",
    "                                         min_samples_split=10, min_samples_leaf=10, max_features='sqrt')\n",
    "        forest.fit(x_train, y_train)\n",
    "        y_pred = forest.predict(x_test)\n",
    "        auc = roc_auc_score(y_test, y_pred)\n",
    "        cv_auc += auc\n",
    "        print(counter, datetime.now(), 'auc:', auc)\n",
    "        out.write(str(counter)+'\\t'+str(datetime.now())+'\\tauc: '+str(auc)+'\\n')\n",
    "    cv_auc = cv_auc/5.\n",
    "    print('cv_auc:', cv_auc)\n",
    "    out.write('cv_auc: '+str(cv_auc)+'\\n\\n')"
   ]
  },
  {
   "cell_type": "code",
   "execution_count": null,
   "metadata": {
    "collapsed": true
   },
   "outputs": [],
   "source": [
    "from sklearn.svm import SVC\n",
    "kf = KFold(n_splits=5, shuffle=False)\n",
    "counter = 0\n",
    "cv_auc = 0\n",
    "for train_index, test_index in kf.split(np.arange(54)):\n",
    "    counter += 1\n",
    "    index = np.arange(test_index[0]*10000,test_index[-1]*10000+10000)\n",
    "    x_test = flat_x[test_index[0]*10000:test_index[-1]*10000+10000]\n",
    "    y_test = flat_y[test_index[0]*10000:test_index[-1]*10000+10000]\n",
    "    x_train = np.delete(flat_x,index,axis=0)\n",
    "    y_train = np.delete(flat_y,index,axis=0)\n",
    "    clf = SVC()\n",
    "    clf.fit(x_train, y_train)\n",
    "    y_pred = clf.predict(x_test)\n",
    "    auc = roc_auc_score(y_test, y_pred)\n",
    "    cv_auc += auc\n",
    "    print(counter, datetime.now(), 'auc:', auc)\n",
    "cv_auc = cv_auc/5.\n",
    "print('cv_auc:', cv_auc)"
   ]
  }
 ],
 "metadata": {
  "kernelspec": {
   "display_name": "Python 3",
   "language": "python",
   "name": "python3"
  },
  "language_info": {
   "codemirror_mode": {
    "name": "ipython",
    "version": 3
   },
   "file_extension": ".py",
   "mimetype": "text/x-python",
   "name": "python",
   "nbconvert_exporter": "python",
   "pygments_lexer": "ipython3",
   "version": "3.7.5"
  }
 },
 "nbformat": 4,
 "nbformat_minor": 2
}
